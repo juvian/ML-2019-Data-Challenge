{
 "cells": [
  {
   "cell_type": "code",
   "execution_count": 1,
   "metadata": {},
   "outputs": [],
   "source": [
    "import pandas as pd\n",
    "import unicodedata\n",
    "import re\n",
    "from collections import Counter, defaultdict\n",
    "from itertools import islice\n",
    "import json\n",
    "from math import log2\n",
    "from pathlib import Path\n",
    "from math import floor"
   ]
  },
  {
   "cell_type": "code",
   "execution_count": 2,
   "metadata": {},
   "outputs": [],
   "source": [
    "PATH = Path('.')"
   ]
  },
  {
   "cell_type": "code",
   "execution_count": 3,
   "metadata": {},
   "outputs": [],
   "source": [
    "df = pd.read_csv('train_prepro.csv')"
   ]
  },
  {
   "cell_type": "code",
   "execution_count": 4,
   "metadata": {},
   "outputs": [],
   "source": [
    "with open(\"important.json\", \"r\") as f:\n",
    "\tword_importance = json.load(f)\t"
   ]
  },
  {
   "cell_type": "code",
   "execution_count": 6,
   "metadata": {},
   "outputs": [],
   "source": [
    "with open(\"main_categories.json\", \"r\") as f:\n",
    "\tmain_categories = json.load(f)\t"
   ]
  },
  {
   "cell_type": "code",
   "execution_count": 7,
   "metadata": {},
   "outputs": [],
   "source": [
    "df.category = df.category.map(main_categories)"
   ]
  },
  {
   "cell_type": "code",
   "execution_count": 8,
   "metadata": {},
   "outputs": [],
   "source": [
    "words = defaultdict(Counter)\n",
    "for index, rows in sorted(df.groupby('category'), key=lambda x: len(x[1]), reverse=True):\n",
    "    def process(t):\n",
    "        for word in set(t.split(' ')):\n",
    "            if word in word_importance:\n",
    "                words[word][index] += 1\n",
    "\n",
    "    rows['title'].apply(process)\n",
    "\n",
    "for word in words.keys():\n",
    "    total = sum(words[word].values())\n",
    "    for cat in words[word].keys():\n",
    "        words[word][cat] /= total\t\n",
    "\n",
    "with open(PATH / 'word_counts.json', 'w') as f:\n",
    "    json.dump(words, f, indent=4)\t"
   ]
  },
  {
   "cell_type": "code",
   "execution_count": null,
   "metadata": {},
   "outputs": [],
   "source": []
  }
 ],
 "metadata": {
  "kernelspec": {
   "display_name": "Python 3",
   "language": "python",
   "name": "python3"
  },
  "language_info": {
   "codemirror_mode": {
    "name": "ipython",
    "version": 3
   },
   "file_extension": ".py",
   "mimetype": "text/x-python",
   "name": "python",
   "nbconvert_exporter": "python",
   "pygments_lexer": "ipython3",
   "version": "3.7.3"
  }
 },
 "nbformat": 4,
 "nbformat_minor": 2
}
