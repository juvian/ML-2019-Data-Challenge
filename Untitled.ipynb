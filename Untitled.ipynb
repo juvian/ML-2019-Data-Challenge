{
 "cells": [
  {
   "cell_type": "code",
   "execution_count": 1,
   "metadata": {},
   "outputs": [],
   "source": [
    "import pandas as pd\n",
    "from fastai import *\n",
    "from fastai.text import * \n",
    "\n",
    "torch.cuda.set_device(1)"
   ]
  },
  {
   "cell_type": "code",
   "execution_count": 17,
   "metadata": {},
   "outputs": [],
   "source": [
    "data = pd.read_csv('train.csv', delimiter=',')"
   ]
  },
  {
   "cell_type": "code",
   "execution_count": 3,
   "metadata": {},
   "outputs": [
    {
     "data": {
      "text/html": [
       "<div>\n",
       "<style scoped>\n",
       "    .dataframe tbody tr th:only-of-type {\n",
       "        vertical-align: middle;\n",
       "    }\n",
       "\n",
       "    .dataframe tbody tr th {\n",
       "        vertical-align: top;\n",
       "    }\n",
       "\n",
       "    .dataframe thead th {\n",
       "        text-align: right;\n",
       "    }\n",
       "</style>\n",
       "<table border=\"1\" class=\"dataframe\">\n",
       "  <thead>\n",
       "    <tr style=\"text-align: right;\">\n",
       "      <th></th>\n",
       "      <th>title</th>\n",
       "      <th>label_quality</th>\n",
       "      <th>language</th>\n",
       "      <th>category</th>\n",
       "    </tr>\n",
       "  </thead>\n",
       "  <tbody>\n",
       "    <tr>\n",
       "      <th>0</th>\n",
       "      <td>Hidrolavadora Lavor One 120 Bar 1700w  Bomba A...</td>\n",
       "      <td>unreliable</td>\n",
       "      <td>spanish</td>\n",
       "      <td>ELECTRIC_PRESSURE_WASHERS</td>\n",
       "    </tr>\n",
       "    <tr>\n",
       "      <th>1</th>\n",
       "      <td>Placa De Sonido - Behringer Umc22</td>\n",
       "      <td>unreliable</td>\n",
       "      <td>spanish</td>\n",
       "      <td>SOUND_CARDS</td>\n",
       "    </tr>\n",
       "    <tr>\n",
       "      <th>2</th>\n",
       "      <td>Maquina De Lavar Electrolux 12 Kilos</td>\n",
       "      <td>unreliable</td>\n",
       "      <td>portuguese</td>\n",
       "      <td>WASHING_MACHINES</td>\n",
       "    </tr>\n",
       "    <tr>\n",
       "      <th>3</th>\n",
       "      <td>Par Disco De Freio Diant Vent Gol 8v 08/ Frema...</td>\n",
       "      <td>unreliable</td>\n",
       "      <td>portuguese</td>\n",
       "      <td>VEHICLE_BRAKE_DISCS</td>\n",
       "    </tr>\n",
       "    <tr>\n",
       "      <th>4</th>\n",
       "      <td>Flashes Led Pestañas Luminoso Falso Pestañas P...</td>\n",
       "      <td>unreliable</td>\n",
       "      <td>spanish</td>\n",
       "      <td>FALSE_EYELASHES</td>\n",
       "    </tr>\n",
       "    <tr>\n",
       "      <th>5</th>\n",
       "      <td>4 Microaspersor Irrigação Ultra 7,20 Metros</td>\n",
       "      <td>unreliable</td>\n",
       "      <td>portuguese</td>\n",
       "      <td>IRRIGATION_SPRINKLERS</td>\n",
       "    </tr>\n",
       "    <tr>\n",
       "      <th>6</th>\n",
       "      <td>Raquete Clash 100 Tour - Nova</td>\n",
       "      <td>unreliable</td>\n",
       "      <td>portuguese</td>\n",
       "      <td>RACQUETS</td>\n",
       "    </tr>\n",
       "    <tr>\n",
       "      <th>7</th>\n",
       "      <td>Kit Tripe Para Celular Ou Câmera Fotog 1,20m +...</td>\n",
       "      <td>unreliable</td>\n",
       "      <td>portuguese</td>\n",
       "      <td>CAMERA_TRIPODS</td>\n",
       "    </tr>\n",
       "    <tr>\n",
       "      <th>8</th>\n",
       "      <td>Filtro Ar Bonanza 1984/1990 Sar3589</td>\n",
       "      <td>unreliable</td>\n",
       "      <td>portuguese</td>\n",
       "      <td>AUTOMOTIVE_AIR_FILTERS</td>\n",
       "    </tr>\n",
       "    <tr>\n",
       "      <th>9</th>\n",
       "      <td>Gatito Lunchera Neoprene</td>\n",
       "      <td>unreliable</td>\n",
       "      <td>spanish</td>\n",
       "      <td>LUNCHBOXES</td>\n",
       "    </tr>\n",
       "    <tr>\n",
       "      <th>10</th>\n",
       "      <td>Condensador Bosch Vw Fusca 1.300 De 1968 À 1974</td>\n",
       "      <td>unreliable</td>\n",
       "      <td>portuguese</td>\n",
       "      <td>CAR_AC_CONDENSERS</td>\n",
       "    </tr>\n",
       "    <tr>\n",
       "      <th>11</th>\n",
       "      <td>Rosario Contador De Billetes Uv / Mg Detecta F...</td>\n",
       "      <td>unreliable</td>\n",
       "      <td>spanish</td>\n",
       "      <td>BILL_COUNTERS</td>\n",
       "    </tr>\n",
       "    <tr>\n",
       "      <th>12</th>\n",
       "      <td>Banhos Mágicos</td>\n",
       "      <td>unreliable</td>\n",
       "      <td>portuguese</td>\n",
       "      <td>ESSENTIAL_OILS</td>\n",
       "    </tr>\n",
       "    <tr>\n",
       "      <th>13</th>\n",
       "      <td>Caixa Setor Hidraulica Ford Focus 2.0 2006</td>\n",
       "      <td>unreliable</td>\n",
       "      <td>portuguese</td>\n",
       "      <td>CAR_POWER_STEERING_PUMPS</td>\n",
       "    </tr>\n",
       "    <tr>\n",
       "      <th>14</th>\n",
       "      <td>Tupia Coluna Laminadora P/ Fresa 6-8mm 1250w M...</td>\n",
       "      <td>unreliable</td>\n",
       "      <td>portuguese</td>\n",
       "      <td>PLUNGE_ROUTERS</td>\n",
       "    </tr>\n",
       "  </tbody>\n",
       "</table>\n",
       "</div>"
      ],
      "text/plain": [
       "                                                title label_quality  \\\n",
       "0   Hidrolavadora Lavor One 120 Bar 1700w  Bomba A...    unreliable   \n",
       "1                   Placa De Sonido - Behringer Umc22    unreliable   \n",
       "2                Maquina De Lavar Electrolux 12 Kilos    unreliable   \n",
       "3   Par Disco De Freio Diant Vent Gol 8v 08/ Frema...    unreliable   \n",
       "4   Flashes Led Pestañas Luminoso Falso Pestañas P...    unreliable   \n",
       "5         4 Microaspersor Irrigação Ultra 7,20 Metros    unreliable   \n",
       "6                       Raquete Clash 100 Tour - Nova    unreliable   \n",
       "7   Kit Tripe Para Celular Ou Câmera Fotog 1,20m +...    unreliable   \n",
       "8                 Filtro Ar Bonanza 1984/1990 Sar3589    unreliable   \n",
       "9                           Gatito Lunchera Neoprene     unreliable   \n",
       "10    Condensador Bosch Vw Fusca 1.300 De 1968 À 1974    unreliable   \n",
       "11  Rosario Contador De Billetes Uv / Mg Detecta F...    unreliable   \n",
       "12                                    Banhos Mágicos     unreliable   \n",
       "13         Caixa Setor Hidraulica Ford Focus 2.0 2006    unreliable   \n",
       "14  Tupia Coluna Laminadora P/ Fresa 6-8mm 1250w M...    unreliable   \n",
       "\n",
       "      language                   category  \n",
       "0      spanish  ELECTRIC_PRESSURE_WASHERS  \n",
       "1      spanish                SOUND_CARDS  \n",
       "2   portuguese           WASHING_MACHINES  \n",
       "3   portuguese        VEHICLE_BRAKE_DISCS  \n",
       "4      spanish            FALSE_EYELASHES  \n",
       "5   portuguese      IRRIGATION_SPRINKLERS  \n",
       "6   portuguese                   RACQUETS  \n",
       "7   portuguese             CAMERA_TRIPODS  \n",
       "8   portuguese     AUTOMOTIVE_AIR_FILTERS  \n",
       "9      spanish                 LUNCHBOXES  \n",
       "10  portuguese          CAR_AC_CONDENSERS  \n",
       "11     spanish              BILL_COUNTERS  \n",
       "12  portuguese             ESSENTIAL_OILS  \n",
       "13  portuguese   CAR_POWER_STEERING_PUMPS  \n",
       "14  portuguese             PLUNGE_ROUTERS  "
      ]
     },
     "execution_count": 3,
     "metadata": {},
     "output_type": "execute_result"
    }
   ],
   "source": [
    "data.head(15)"
   ]
  },
  {
   "cell_type": "code",
   "execution_count": 4,
   "metadata": {},
   "outputs": [
    {
     "data": {
      "text/plain": [
       "category\n",
       "3D_GLASSES                             7089\n",
       "3D_PENS                                 507\n",
       "3D_PRINTERS                            6741\n",
       "3D_PRINTER_FILAMENTS                   4764\n",
       "ABDOMINAL_TONING_BELTS                 2309\n",
       "ABS_SENSORS                           13179\n",
       "AB_ROLLER_WHEELS                       4750\n",
       "ACCORDIONS                            13681\n",
       "ACOUSTIC_GUITARS                      18432\n",
       "ACOUSTIC_PANELS                        6839\n",
       "ACTION_CAMERA_MOUNTS                   7429\n",
       "ACTION_FIGURES                        28324\n",
       "ADHESIVE_TAPES                        27929\n",
       "AEROBIC_CRUNCH_MACHINES                3313\n",
       "AFTERSHAVES                            6270\n",
       "AGOGOS                                  733\n",
       "AIRBAGS                                9696\n",
       "AIRBAG_MODULES                        15644\n",
       "AIRBRUSHES                            10559\n",
       "AIRGUN_PELLETS                        13838\n",
       "AIRSOFT_GUNS                          19175\n",
       "AIR_COMPRESSORS                       29259\n",
       "AIR_CONDITIONERS                      18200\n",
       "AIR_CONDITIONER_REMOTE_CONTROLS       19480\n",
       "AIR_FRESHENERS                        20234\n",
       "AIR_MATTRESSES                        11274\n",
       "ALARMS_AND_SENSORS                    23261\n",
       "ALARM_CLOCKS                          19468\n",
       "ALL_IN_ONE                            23775\n",
       "ALTERNATORS                           19005\n",
       "                                      ...  \n",
       "WETSUITS                               9607\n",
       "WET_BABY_WIPES                         4794\n",
       "WHEELBARROWS                           2451\n",
       "WHEELCHAIRS                            8859\n",
       "WHEELS_BEARINGS                       28920\n",
       "WHEEL_STUDS                           12817\n",
       "WHISKEYS                              28782\n",
       "WINDOWS                               20049\n",
       "WINDSHIELD_WASHER_FLUID_RESERVOIRS     8297\n",
       "WINDSHIELD_WIPERS                     18517\n",
       "WINDSHIELD_WIPER_MOTORS               11148\n",
       "WINES                                 31399\n",
       "WINE_ACCESSORY_SETS                    6947\n",
       "WINE_CELLARS                           6646\n",
       "WIRELESS_ANTENNAS                     19832\n",
       "WIRELESS_FM_TRANSMITTERS               6971\n",
       "WIRE_STRIPPERS                         3674\n",
       "WOMEN_SWIMWEAR                        24611\n",
       "WOOD_BURNING_MACHINES                  1302\n",
       "WOOD_FLOORINGS                        15083\n",
       "WOOD_PROTECTIVE_PAINTS                 4741\n",
       "WORKOUT_BENCHES                        4803\n",
       "WORLD_GLOBES                           2726\n",
       "WRENCHES                              22156\n",
       "WRENCH_SETS                           26988\n",
       "WRISTWATCHES                          28006\n",
       "XENON_KITS                             8463\n",
       "YARNS                                  8226\n",
       "YOGA_MATS                              5283\n",
       "YOGURT_MAKERS                           861\n",
       "Length: 1588, dtype: int64"
      ]
     },
     "execution_count": 4,
     "metadata": {},
     "output_type": "execute_result"
    }
   ],
   "source": [
    "data.groupby('category').size()"
   ]
  },
  {
   "cell_type": "code",
   "execution_count": 19,
   "metadata": {},
   "outputs": [
    {
     "ename": "NameError",
     "evalue": "name 'data' is not defined",
     "output_type": "error",
     "traceback": [
      "\u001b[0;31m---------------------------------------------------------------------------\u001b[0m",
      "\u001b[0;31mNameError\u001b[0m                                 Traceback (most recent call last)",
      "\u001b[0;32m<ipython-input-19-49ca2592974c>\u001b[0m in \u001b[0;36m<module>\u001b[0;34m\u001b[0m\n\u001b[0;32m----> 1\u001b[0;31m \u001b[0moffset\u001b[0m \u001b[0;34m=\u001b[0m \u001b[0mlen\u001b[0m\u001b[0;34m(\u001b[0m\u001b[0mdata\u001b[0m\u001b[0;34m)\u001b[0m\u001b[0;34m//\u001b[0m\u001b[0;36m10\u001b[0m\u001b[0;34m\u001b[0m\u001b[0;34m\u001b[0m\u001b[0m\n\u001b[0m\u001b[1;32m      2\u001b[0m \u001b[0mtrn_texts\u001b[0m \u001b[0;34m=\u001b[0m \u001b[0mdata\u001b[0m\u001b[0;34m.\u001b[0m\u001b[0mloc\u001b[0m\u001b[0;34m[\u001b[0m\u001b[0;36m0\u001b[0m\u001b[0;34m:\u001b[0m\u001b[0;36m10\u001b[0m\u001b[0;34m,\u001b[0m \u001b[0;34m'title'\u001b[0m\u001b[0;34m]\u001b[0m\u001b[0;34m.\u001b[0m\u001b[0mvalues\u001b[0m\u001b[0;34m\u001b[0m\u001b[0;34m\u001b[0m\u001b[0m\n\u001b[1;32m      3\u001b[0m \u001b[0mtrn_labels\u001b[0m \u001b[0;34m=\u001b[0m \u001b[0mdata\u001b[0m\u001b[0;34m.\u001b[0m\u001b[0mloc\u001b[0m\u001b[0;34m[\u001b[0m\u001b[0;36m0\u001b[0m\u001b[0;34m:\u001b[0m\u001b[0;36m10\u001b[0m\u001b[0;34m,\u001b[0m \u001b[0;34m'category'\u001b[0m\u001b[0;34m]\u001b[0m\u001b[0;34m.\u001b[0m\u001b[0mvalues\u001b[0m\u001b[0;34m\u001b[0m\u001b[0;34m\u001b[0m\u001b[0m\n\u001b[1;32m      4\u001b[0m \u001b[0mval_texts\u001b[0m \u001b[0;34m=\u001b[0m \u001b[0mdata\u001b[0m\u001b[0;34m.\u001b[0m\u001b[0mloc\u001b[0m\u001b[0;34m[\u001b[0m\u001b[0;36m10\u001b[0m\u001b[0;34m:\u001b[0m\u001b[0;34m,\u001b[0m \u001b[0;34m'title'\u001b[0m\u001b[0;34m]\u001b[0m\u001b[0;34m.\u001b[0m\u001b[0mvalues\u001b[0m\u001b[0;34m\u001b[0m\u001b[0;34m\u001b[0m\u001b[0m\n\u001b[1;32m      5\u001b[0m \u001b[0mval_labels\u001b[0m \u001b[0;34m=\u001b[0m \u001b[0mdata\u001b[0m\u001b[0;34m.\u001b[0m\u001b[0mloc\u001b[0m\u001b[0;34m[\u001b[0m\u001b[0;36m10\u001b[0m\u001b[0;34m:\u001b[0m\u001b[0;34m,\u001b[0m \u001b[0;34m'category'\u001b[0m\u001b[0;34m]\u001b[0m\u001b[0;34m.\u001b[0m\u001b[0mvalues\u001b[0m\u001b[0;34m\u001b[0m\u001b[0;34m\u001b[0m\u001b[0m\n",
      "\u001b[0;31mNameError\u001b[0m: name 'data' is not defined"
     ]
    }
   ],
   "source": [
    "offset = len(data)//10\n",
    "trn_texts = data.loc[0:10, 'title'].values\n",
    "trn_labels = data.loc[0:10, 'category'].values\n",
    "val_texts = data.loc[10:, 'title'].values\n",
    "val_labels = data.loc[10:, 'category'].values"
   ]
  },
  {
   "cell_type": "code",
   "execution_count": 19,
   "metadata": {},
   "outputs": [],
   "source": [
    "df_trn = pd.DataFrame({'text':trn_texts, 'labels':trn_labels}, columns=['labels','text'])\n",
    "df_val = pd.DataFrame({'text':val_texts, 'labels':val_labels}, columns=['labels','text'])"
   ]
  },
  {
   "cell_type": "code",
   "execution_count": 7,
   "metadata": {},
   "outputs": [],
   "source": [
    "data_lm = TextLMDataBunch.from_df('./', train_df=df_trn, valid_df=df_val)\n",
    "data_lm.save('data_lm_export.pkl')"
   ]
  },
  {
   "cell_type": "code",
   "execution_count": 12,
   "metadata": {},
   "outputs": [],
   "source": [
    "data_lm = load_data('', 'data_lm_export.pkl')"
   ]
  },
  {
   "cell_type": "code",
   "execution_count": 4,
   "metadata": {},
   "outputs": [
    {
     "data": {
      "text/html": [],
      "text/plain": [
       "<IPython.core.display.HTML object>"
      ]
     },
     "metadata": {},
     "output_type": "display_data"
    },
    {
     "name": "stdout",
     "output_type": "stream",
     "text": [
      "LR Finder is complete, type {learner_name}.recorder.plot() to see the graph.\n"
     ]
    },
    {
     "data": {
      "image/png": "[encoded data removed]",
      "text/plain": [
       "<Figure size 432x288 with 1 Axes>"
      ]
     },
     "metadata": {
      "needs_background": "light"
     },
     "output_type": "display_data"
    }
   ],
   "source": [
    "learn = language_model_learner(data_lm, AWD_LSTM, pretrained=False, drop_mult=0.5)\n",
    "learn.lr_find()\n",
    "learn.recorder.plot()"
   ]
  },
  {
   "cell_type": "code",
   "execution_count": 12,
   "metadata": {},
   "outputs": [],
   "source": [
    "from fastai.callbacks import *\n",
    "learn.callbacks.append(SaveModelCallback(learn))"
   ]
  },
  {
   "cell_type": "code",
   "execution_count": 13,
   "metadata": {},
   "outputs": [
    {
     "data": {
      "text/html": [
       "<table border=\"1\" class=\"dataframe\">\n",
       "  <thead>\n",
       "    <tr style=\"text-align: left;\">\n",
       "      <th>epoch</th>\n",
       "      <th>train_loss</th>\n",
       "      <th>valid_loss</th>\n",
       "      <th>accuracy</th>\n",
       "      <th>time</th>\n",
       "    </tr>\n",
       "  </thead>\n",
       "  <tbody>\n",
       "    <tr>\n",
       "      <td>0</td>\n",
       "      <td>3.977809</td>\n",
       "      <td>3.932472</td>\n",
       "      <td>0.463758</td>\n",
       "      <td>1:52:01</td>\n",
       "    </tr>\n",
       "    <tr>\n",
       "      <td>1</td>\n",
       "      <td>3.258224</td>\n",
       "      <td>3.198015</td>\n",
       "      <td>0.505633</td>\n",
       "      <td>1:51:37</td>\n",
       "    </tr>\n",
       "    <tr>\n",
       "      <td>2</td>\n",
       "      <td>3.038942</td>\n",
       "      <td>2.961053</td>\n",
       "      <td>0.520093</td>\n",
       "      <td>1:51:22</td>\n",
       "    </tr>\n",
       "    <tr>\n",
       "      <td>3</td>\n",
       "      <td>2.942150</td>\n",
       "      <td>2.862063</td>\n",
       "      <td>0.528074</td>\n",
       "      <td>1:51:18</td>\n",
       "    </tr>\n",
       "    <tr>\n",
       "      <td>4</td>\n",
       "      <td>2.857514</td>\n",
       "      <td>2.806730</td>\n",
       "      <td>0.533321</td>\n",
       "      <td>1:51:46</td>\n",
       "    </tr>\n",
       "    <tr>\n",
       "      <td>5</td>\n",
       "      <td>2.809462</td>\n",
       "      <td>2.765934</td>\n",
       "      <td>0.537429</td>\n",
       "      <td>1:51:22</td>\n",
       "    </tr>\n",
       "    <tr>\n",
       "      <td>6</td>\n",
       "      <td>2.767670</td>\n",
       "      <td>2.735955</td>\n",
       "      <td>0.540825</td>\n",
       "      <td>1:51:41</td>\n",
       "    </tr>\n",
       "    <tr>\n",
       "      <td>7</td>\n",
       "      <td>2.714933</td>\n",
       "      <td>2.715597</td>\n",
       "      <td>0.543367</td>\n",
       "      <td>1:51:46</td>\n",
       "    </tr>\n",
       "    <tr>\n",
       "      <td>8</td>\n",
       "      <td>2.680514</td>\n",
       "      <td>2.705353</td>\n",
       "      <td>0.544755</td>\n",
       "      <td>1:51:39</td>\n",
       "    </tr>\n",
       "    <tr>\n",
       "      <td>9</td>\n",
       "      <td>2.652075</td>\n",
       "      <td>2.703223</td>\n",
       "      <td>0.544976</td>\n",
       "      <td>1:51:32</td>\n",
       "    </tr>\n",
       "  </tbody>\n",
       "</table>"
      ],
      "text/plain": [
       "<IPython.core.display.HTML object>"
      ]
     },
     "metadata": {},
     "output_type": "display_data"
    },
    {
     "name": "stdout",
     "output_type": "stream",
     "text": [
      "Better model found at epoch 0 with valid_loss value: 3.932471990585327.\n",
      "Better model found at epoch 1 with valid_loss value: 3.1980154514312744.\n",
      "Better model found at epoch 2 with valid_loss value: 2.961052894592285.\n",
      "Better model found at epoch 3 with valid_loss value: 2.862063407897949.\n",
      "Better model found at epoch 4 with valid_loss value: 2.806729793548584.\n",
      "Better model found at epoch 5 with valid_loss value: 2.7659339904785156.\n",
      "Better model found at epoch 6 with valid_loss value: 2.7359554767608643.\n",
      "Better model found at epoch 7 with valid_loss value: 2.71559739112854.\n",
      "Better model found at epoch 8 with valid_loss value: 2.705352544784546.\n",
      "Better model found at epoch 9 with valid_loss value: 2.70322322845459.\n"
     ]
    }
   ],
   "source": [
    "learn.fit_one_cycle(10,1e-3)"
   ]
  },
  {
   "cell_type": "code",
   "execution_count": 21,
   "metadata": {},
   "outputs": [],
   "source": [
    "data_clas = TextClasDataBunch.from_df('./', train_df=df_trn, valid_df=df_val, vocab=data_lm.train_ds.vocab, bs=32)"
   ]
  },
  {
   "cell_type": "code",
   "execution_count": 22,
   "metadata": {},
   "outputs": [],
   "source": [
    "data_clas.save('data_clas_export.pkl')"
   ]
  },
  {
   "cell_type": "code",
   "execution_count": 3,
   "metadata": {},
   "outputs": [],
   "source": [
    "data_clas = load_data('', 'data_clas_export.pkl', bs=16)"
   ]
  },
  {
   "cell_type": "code",
   "execution_count": 18,
   "metadata": {},
   "outputs": [
    {
     "ename": "NameError",
     "evalue": "name 'FILE_LM_ENCODER' is not defined",
     "output_type": "error",
     "traceback": [
      "\u001b[0;31m---------------------------------------------------------------------------\u001b[0m",
      "\u001b[0;31mNameError\u001b[0m                                 Traceback (most recent call last)",
      "\u001b[0;32m<ipython-input-18-010c4bd6aa2a>\u001b[0m in \u001b[0;36m<module>\u001b[0;34m\u001b[0m\n\u001b[1;32m      1\u001b[0m \u001b[0mconfig\u001b[0m \u001b[0;34m=\u001b[0m \u001b[0mawd_lstm_lm_config\u001b[0m\u001b[0;34m.\u001b[0m\u001b[0mcopy\u001b[0m\u001b[0;34m(\u001b[0m\u001b[0;34m)\u001b[0m\u001b[0;34m\u001b[0m\u001b[0;34m\u001b[0m\u001b[0m\n\u001b[1;32m      2\u001b[0m \u001b[0mconfig\u001b[0m\u001b[0;34m[\u001b[0m\u001b[0;34m'n_hid'\u001b[0m\u001b[0;34m]\u001b[0m \u001b[0;34m=\u001b[0m \u001b[0;36m1150\u001b[0m\u001b[0;34m\u001b[0m\u001b[0;34m\u001b[0m\u001b[0m\n\u001b[0;32m----> 3\u001b[0;31m \u001b[0mclassifier\u001b[0m \u001b[0;34m=\u001b[0m \u001b[0mtext_classifier_learner\u001b[0m\u001b[0;34m(\u001b[0m\u001b[0mdata_clas\u001b[0m\u001b[0;34m,\u001b[0m \u001b[0mAWD_LSTM\u001b[0m\u001b[0;34m,\u001b[0m\u001b[0mpretrained\u001b[0m\u001b[0;34m=\u001b[0m\u001b[0;32mFalse\u001b[0m\u001b[0;34m,\u001b[0m \u001b[0mdrop_mult\u001b[0m\u001b[0;34m=\u001b[0m\u001b[0;36m0.5\u001b[0m\u001b[0;34m,\u001b[0m \u001b[0mconfig\u001b[0m\u001b[0;34m=\u001b[0m\u001b[0mconfig\u001b[0m\u001b[0;34m,\u001b[0m\u001b[0mpretrained_fnames\u001b[0m\u001b[0;34m=\u001b[0m\u001b[0;34m[\u001b[0m\u001b[0mFILE_LM_ENCODER\u001b[0m\u001b[0;34m,\u001b[0m \u001b[0mFILE_ITOS\u001b[0m\u001b[0;34m]\u001b[0m \u001b[0;34m)\u001b[0m\u001b[0;34m\u001b[0m\u001b[0;34m\u001b[0m\u001b[0m\n\u001b[0m\u001b[1;32m      4\u001b[0m \u001b[0;31m#classifier.load_encoder('models/bestmodel')\u001b[0m\u001b[0;34m\u001b[0m\u001b[0;34m\u001b[0m\u001b[0;34m\u001b[0m\u001b[0m\n",
      "\u001b[0;31mNameError\u001b[0m: name 'FILE_LM_ENCODER' is not defined"
     ]
    }
   ],
   "source": [
    "config = awd_lstm_lm_config.copy()\n",
    "config['n_hid'] = 1150\n",
    "classifier = text_classifier_learner(data_clas, AWD_LSTM,pretrained=False, drop_mult=0.5)\n",
    "#classifier.load_encoder('models/bestmodel')"
   ]
  },
  {
   "cell_type": "code",
   "execution_count": 22,
   "metadata": {},
   "outputs": [],
   "source": [
    "encoder = get_model(classifier.model)[0]\n",
    "device = classifier.data.device\n",
    "if hasattr(encoder, 'module'): encoder = encoder.module\n",
    "encoder.load_state_dict(torch.load('models/bestmodel.pth', map_location=device), strict=False)\n",
    "classifier.freeze()"
   ]
  },
  {
   "cell_type": "code",
   "execution_count": 23,
   "metadata": {},
   "outputs": [
    {
     "data": {
      "text/html": [],
      "text/plain": [
       "<IPython.core.display.HTML object>"
      ]
     },
     "metadata": {},
     "output_type": "display_data"
    },
    {
     "name": "stdout",
     "output_type": "stream",
     "text": [
      "LR Finder is complete, type {learner_name}.recorder.plot() to see the graph.\n"
     ]
    },
    {
     "data": {
      "image/png": "[encoded data removed]",
      "text/plain": [
       "<Figure size 432x288 with 1 Axes>"
      ]
     },
     "metadata": {
      "needs_background": "light"
     },
     "output_type": "display_data"
    }
   ],
   "source": [
    "classifier.lr_find()\n",
    "classifier.recorder.plot()"
   ]
  },
  {
   "cell_type": "code",
   "execution_count": null,
   "metadata": {},
   "outputs": [
    {
     "data": {
      "text/html": [
       "\n",
       "    <div>\n",
       "        <style>\n",
       "            /* Turns off some styling */\n",
       "            progress {\n",
       "                /* gets rid of default border in Firefox and Opera. */\n",
       "                border: none;\n",
       "                /* Needs to be in here for Safari polyfill so background images work as expected. */\n",
       "                background-size: auto;\n",
       "            }\n",
       "            .progress-bar-interrupted, .progress-bar-interrupted::-webkit-progress-bar {\n",
       "                background: #F44336;\n",
       "            }\n",
       "        </style>\n",
       "      <progress value='0' class='' max='5', style='width:300px; height:20px; vertical-align: middle;'></progress>\n",
       "      0.00% [0/5 00:00<00:00]\n",
       "    </div>\n",
       "    \n",
       "<table border=\"1\" class=\"dataframe\">\n",
       "  <thead>\n",
       "    <tr style=\"text-align: left;\">\n",
       "      <th>epoch</th>\n",
       "      <th>train_loss</th>\n",
       "      <th>valid_loss</th>\n",
       "      <th>accuracy</th>\n",
       "      <th>time</th>\n",
       "    </tr>\n",
       "  </thead>\n",
       "  <tbody>\n",
       "  </tbody>\n",
       "</table><p>\n",
       "\n",
       "    <div>\n",
       "        <style>\n",
       "            /* Turns off some styling */\n",
       "            progress {\n",
       "                /* gets rid of default border in Firefox and Opera. */\n",
       "                border: none;\n",
       "                /* Needs to be in here for Safari polyfill so background images work as expected. */\n",
       "                background-size: auto;\n",
       "            }\n",
       "            .progress-bar-interrupted, .progress-bar-interrupted::-webkit-progress-bar {\n",
       "                background: #F44336;\n",
       "            }\n",
       "        </style>\n",
       "      <progress value='209038' class='' max='1125000', style='width:300px; height:20px; vertical-align: middle;'></progress>\n",
       "      18.58% [209038/1125000 40:56<2:59:23]\n",
       "    </div>\n",
       "    "
      ],
      "text/plain": [
       "<IPython.core.display.HTML object>"
      ]
     },
     "metadata": {},
     "output_type": "display_data"
    }
   ],
   "source": [
    "classifier.fit_one_cycle(5, 1e-3)"
   ]
  },
  {
   "cell_type": "code",
   "execution_count": 30,
   "metadata": {},
   "outputs": [
    {
     "data": {
      "text/html": [
       "<table border=\"1\" class=\"dataframe\">\n",
       "  <thead>\n",
       "    <tr style=\"text-align: right;\">\n",
       "      <th>text</th>\n",
       "      <th>target</th>\n",
       "      <th>prediction</th>\n",
       "    </tr>\n",
       "  </thead>\n",
       "  <tbody>\n",
       "    <tr>\n",
       "      <td>xxbos xxmaj bateria xxmaj para xxmaj hp xxmaj pavilion xxmaj dv7 - xxunk xxmaj dv7 - xxunk xxmaj dv7 - xxunk xxmaj dv7 - xxunk xxmaj dv7 - xxunk xxmaj dv7 - xxunk xxmaj dv7 - xxunk xxmaj dv7 - xxunk xxmaj dv7 - 306</td>\n",
       "      <td>LAPTOP_BATTERIES</td>\n",
       "      <td>LAPTOP_BATTERIES</td>\n",
       "    </tr>\n",
       "    <tr>\n",
       "      <td>xxbos xxmaj bateria xxup xxunk xxmaj para xxmaj apple xxmaj macbook xxmaj air 11 xxmaj inch xxup xxunk xxmaj late 2010 xxmaj version xxmaj xxunk xxmaj ll / a xxmaj xxunk xxmaj ll / a xxunk - xxunk xxunk - xxunk 5200 xxmaj mah</td>\n",
       "      <td>LAPTOP_BATTERIES</td>\n",
       "      <td>CELLPHONE_BATTERIES</td>\n",
       "    </tr>\n",
       "    <tr>\n",
       "      <td>xxbos xxmaj telefone xxmaj ip xxmaj cisco xxmaj xxunk xxmaj cp xxunk xxmaj kit xxmaj com 17 xxmaj aparelhos + 17 xxmaj xxunk ( novos ) xxmaj com xxmaj nota xxmaj fiscal + xxmaj garantia + xxmaj entrega xxmaj imediata</td>\n",
       "      <td>IP_TELEPHONES</td>\n",
       "      <td>CELL_BATTERIES</td>\n",
       "    </tr>\n",
       "    <tr>\n",
       "      <td>xxbos xxmaj auriculares xxmaj true xxmaj inalambrico xxmaj xxunk xxmaj deep xxmaj bass xxmaj hd xxmaj call xxmaj quality xxmaj bluetooth 5.0 xxmaj xxunk a xxmaj prueba xxmaj de xxmaj agua xxmaj tws xxmaj bluetooth xxmaj xxunk</td>\n",
       "      <td>HEADPHONES</td>\n",
       "      <td>SPEAKERS</td>\n",
       "    </tr>\n",
       "    <tr>\n",
       "      <td>xxbos xxmaj aros xxmaj oro 18 xxmaj xxunk xxmaj estrella xxmaj xxunk xxmaj para xxmaj dama xxunk a xxmaj rosca xxmaj garantía xxmaj de xxmaj por xxmaj vida xxmaj barrio xxmaj de xxmaj xxunk</td>\n",
       "      <td>EARRINGS</td>\n",
       "      <td>EARRINGS</td>\n",
       "    </tr>\n",
       "  </tbody>\n",
       "</table>"
      ],
      "text/plain": [
       "<IPython.core.display.HTML object>"
      ]
     },
     "metadata": {},
     "output_type": "display_data"
    }
   ],
   "source": [
    "classifier.show_results()"
   ]
  },
  {
   "cell_type": "code",
   "execution_count": null,
   "metadata": {},
   "outputs": [],
   "source": [
    "preds,y,losses = learn.get_preds(with_loss=True)\n",
    "interp = ClassificationInterpretation(learn, preds, y, losses)"
   ]
  }
 ],
 "metadata": {
  "kernelspec": {
   "display_name": "Python 3",
   "language": "python",
   "name": "python3"
  },
  "language_info": {
   "codemirror_mode": {
    "name": "ipython",
    "version": 3
   },
   "file_extension": ".py",
   "mimetype": "text/x-python",
   "name": "python",
   "nbconvert_exporter": "python",
   "pygments_lexer": "ipython3",
   "version": "3.7.3"
  }
 },
 "nbformat": 4,
 "nbformat_minor": 2
}
