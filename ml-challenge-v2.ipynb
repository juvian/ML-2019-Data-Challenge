{
 "cells": [
  {
   "cell_type": "code",
   "execution_count": 1,
   "metadata": {},
   "outputs": [],
   "source": [
    "from fastai.text import * \n",
    "from fastai.callbacks import *\n",
    "from sklearn.model_selection import train_test_split\n",
    "from pathlib import Path\n",
    "import pickle as pkl"
   ]
  },
  {
   "cell_type": "code",
   "execution_count": 2,
   "metadata": {},
   "outputs": [],
   "source": [
    "PATH = Path('.')\n",
    "MODELS_PATH = PATH / 'models'\n",
    "MODELS_PATH.mkdir(exist_ok=True)"
   ]
  },
  {
   "cell_type": "code",
   "execution_count": 3,
   "metadata": {},
   "outputs": [],
   "source": [
    "import unicodedata\n",
    "import pandas as pd\n",
    "import re\n",
    "import spacy"
   ]
  },
  {
   "cell_type": "code",
   "execution_count": 13,
   "metadata": {},
   "outputs": [],
   "source": [
    "def normalize_title(title):\n",
    "    s = re.sub(r'[^a-zA-Z0-9ñç% ]', ' ', unicodedata.normalize('NFKD', title.lower()).encode('ascii', 'ignore').decode(\"utf-8\"))\n",
    "    s = re.sub(r'[\\d]+', \"1\", s)\n",
    "    s = re.sub(r's |s$', ' ', s)\n",
    "    s = re.sub(r' +', ' ', s)\n",
    "    s = re.sub(r'(1 )+', '1 ', s)\n",
    "    return re.sub(r'o |o$', 'a ', s).strip()"
   ]
  },
  {
   "cell_type": "code",
   "execution_count": 5,
   "metadata": {},
   "outputs": [
    {
     "name": "stdout",
     "output_type": "stream",
     "text": [
      "avon alhambra piedra pomez 1 e 1gr y m1 desodorante\n",
      "1 fuente de pc a reparar a repuesta\n"
     ]
    }
   ],
   "source": [
    "print(normalize_title('\"Avon Alhambra,{} Piedra Pómez 342 322 e 54gr Y M123 Desodorante\"'))\n",
    "print(normalize_title(\"5 Fuentes De Pc A Reparar O Repuestos\"))"
   ]
  },
  {
   "cell_type": "code",
   "execution_count": 6,
   "metadata": {},
   "outputs": [
    {
     "data": {
      "text/plain": [
       "(60000,\n",
       " ['xxunk',\n",
       "  'xxpad',\n",
       "  'xxbos',\n",
       "  'xxeos',\n",
       "  'xxfld',\n",
       "  'xxmaj',\n",
       "  'xxup',\n",
       "  'xxrep',\n",
       "  'xxwrep',\n",
       "  'calca',\n",
       "  'pantalon',\n",
       "  'jean',\n",
       "  'chupin',\n",
       "  'moletom',\n",
       "  'jogger',\n",
       "  'skinny',\n",
       "  'legging',\n",
       "  'babucha',\n",
       "  'calza',\n",
       "  'feminina',\n",
       "  'jogging',\n",
       "  'flare',\n",
       "  'talle',\n",
       "  'cigarrete',\n",
       "  'masculina',\n",
       "  'pantalone',\n",
       "  'sarja',\n",
       "  'levi',\n",
       "  'bombacha',\n",
       "  'adida'])"
      ]
     },
     "execution_count": 6,
     "metadata": {},
     "output_type": "execute_result"
    }
   ],
   "source": [
    "import json\n",
    "with open(PATH / \"vocab60000.json\") as f:\n",
    "    vocab = Vocab.create([json.load(f)], min_freq=1, max_vocab=60000)\n",
    "len(vocab.itos), vocab.itos[0:30]  "
   ]
  },
  {
   "cell_type": "code",
   "execution_count": 6,
   "metadata": {},
   "outputs": [],
   "source": [
    "if not (PATH / 'test_prepro.csv').exists():\n",
    "    d = pd.read_csv(PATH / 'test.csv')\n",
    "    d.title = d.title.apply(normalize_title)\n",
    "    d.to_csv(PATH / 'test_prepro.csv', index=False)    "
   ]
  },
  {
   "cell_type": "code",
   "execution_count": 29,
   "metadata": {},
   "outputs": [],
   "source": [
    "if not (PATH / 'train_prepro.csv').exists() or True:\n",
    "    d = pd.read_csv(PATH / 'train.csv')\n",
    "    d.title = d.title.apply(normalize_title)\n",
    "    d = d[~df.title.isna() & (df.title != 'nan') & (df.title != '')]\n",
    "    d.to_csv(PATH / 'train_prepro.csv', index=False)    "
   ]
  },
  {
   "cell_type": "code",
   "execution_count": 14,
   "metadata": {},
   "outputs": [
    {
     "data": {
      "text/plain": [
       "20246908"
      ]
     },
     "execution_count": 14,
     "metadata": {},
     "output_type": "execute_result"
    }
   ],
   "source": [
    "len(df)"
   ]
  },
  {
   "cell_type": "code",
   "execution_count": 6,
   "metadata": {},
   "outputs": [],
   "source": [
    "if not (PATH / 'data_lm_export.pkl').exists():\n",
    "    df = pd.read_csv(PATH / 'train_prepro.csv')\n",
    "    df2 = pd.read_csv(PATH / 'test_prepro.csv')\n",
    "    df = df.append(df2, sort=False)\n",
    "    df['category'] = df['category'].fillna('unknown')\n",
    "\n",
    "    #train, valid = train_test_split(df, test_size=int(.01*len(df)), stratify=df.category)\n",
    "    \n",
    "    data_lm = (TextList.from_df(df, cols=['language', 'title'], processor = SPProcessor(lang='es'))\n",
    "        .split_by_rand_pct(0.02, seed=42)\n",
    "        .label_for_lm()\n",
    "        .databunch(bs=64, num_workers=1, bptt = 16))\n",
    "\n",
    "    data_lm.save('data_lm_export.pkl')\n",
    "else:\n",
    "    print('Loading databunch...')\n",
    "    data_lm = load_data(PATH, 'data_lm_export.pkl')"
   ]
  },
  {
   "cell_type": "code",
   "execution_count": 7,
   "metadata": {},
   "outputs": [
    {
     "data": {
      "text/html": [
       "<table border=\"1\" class=\"dataframe\">\n",
       "  <thead>\n",
       "    <tr style=\"text-align: right;\">\n",
       "      <th>idx</th>\n",
       "      <th>text</th>\n",
       "    </tr>\n",
       "  </thead>\n",
       "  <tbody>\n",
       "    <tr>\n",
       "      <td>0</td>\n",
       "      <td>▁sonida ▁behringer ▁umc 1 ▁xxbos ▁portuguese ▁maquina ▁de ▁lavar ▁electrolux ▁1 ▁kila ▁xxbos ▁portuguese ▁par ▁disca</td>\n",
       "    </tr>\n",
       "    <tr>\n",
       "      <td>1</td>\n",
       "      <td>▁camping ▁xxbos ▁portuguese ▁placa ▁tcon ▁1 ▁tv ▁lcd ▁sony ▁kdl ▁1 x br 1 ▁xxbos ▁spanish</td>\n",
       "    </tr>\n",
       "    <tr>\n",
       "      <td>2</td>\n",
       "      <td>▁de ▁moletom ▁floral ▁xxbos ▁portuguese ▁kit ▁c ▁1 ▁prendedor ▁de ▁papel ▁1 mm ▁dourada ▁c ▁1</td>\n",
       "    </tr>\n",
       "    <tr>\n",
       "      <td>3</td>\n",
       "      <td>▁ponta ▁palita ▁xxbos ▁portuguese ▁pedal ▁sustain ▁teclada ▁sp 1 ▁yamaha ▁roland ▁korg ▁casia ▁xxbos ▁portuguese ▁tabua</td>\n",
       "    </tr>\n",
       "    <tr>\n",
       "      <td>4</td>\n",
       "      <td>▁motoqueira ▁m ▁xxbos ▁spanish ▁tig ▁acdc ▁1 ▁amper ▁taura ▁ultima ▁tecnologia ▁suel da ▁aluminia ▁xxbos ▁spanish</td>\n",
       "    </tr>\n",
       "  </tbody>\n",
       "</table>"
      ],
      "text/plain": [
       "<IPython.core.display.HTML object>"
      ]
     },
     "metadata": {},
     "output_type": "display_data"
    }
   ],
   "source": [
    "data_lm.show_batch()"
   ]
  },
  {
   "cell_type": "code",
   "execution_count": 9,
   "metadata": {},
   "outputs": [],
   "source": [
    "learn = language_model_learner(data_lm, AWD_LSTM, drop_mult=0.1, wd=0.1, pretrained=False).to_fp16()"
   ]
  },
  {
   "cell_type": "code",
   "execution_count": 11,
   "metadata": {},
   "outputs": [],
   "source": [
    "lr = 3e-3\n",
    "lr *= 64/48"
   ]
  },
  {
   "cell_type": "code",
   "execution_count": 8,
   "metadata": {},
   "outputs": [
    {
     "data": {
      "text/html": [],
      "text/plain": [
       "<IPython.core.display.HTML object>"
      ]
     },
     "metadata": {},
     "output_type": "display_data"
    },
    {
     "name": "stdout",
     "output_type": "stream",
     "text": [
      "LR Finder is complete, type {learner_name}.recorder.plot() to see the graph.\n",
      "Min numerical gradient: 3.02E-03\n",
      "Min loss divided by 10: 2.51E-02\n"
     ]
    },
    {
     "data": {
      "image/png": "[encoded data removed]",
      "text/plain": [
       "<Figure size 432x288 with 1 Axes>"
      ]
     },
     "metadata": {
      "needs_background": "light"
     },
     "output_type": "display_data"
    }
   ],
   "source": [
    "learn.lr_find()\n",
    "learn.recorder.plot(skip_end=10, skip_start=20, suggestion=True)"
   ]
  },
  {
   "cell_type": "code",
   "execution_count": 12,
   "metadata": {},
   "outputs": [
    {
     "name": "stderr",
     "output_type": "stream",
     "text": [
      "/home/jdg/miniconda3/envs/fastai/lib/python3.7/site-packages/fastai/callbacks/tracker.py:83: UserWarning: SaveModel every best is invalid, falling back to \"improvement\".\n",
      "  warn(f'SaveModel every {self.every} is invalid, falling back to \"improvement\".')\n"
     ]
    },
    {
     "data": {
      "text/html": [
       "<table border=\"1\" class=\"dataframe\">\n",
       "  <thead>\n",
       "    <tr style=\"text-align: left;\">\n",
       "      <th>epoch</th>\n",
       "      <th>train_loss</th>\n",
       "      <th>valid_loss</th>\n",
       "      <th>accuracy</th>\n",
       "      <th>time</th>\n",
       "    </tr>\n",
       "  </thead>\n",
       "  <tbody>\n",
       "    <tr>\n",
       "      <td>0</td>\n",
       "      <td>4.343431</td>\n",
       "      <td>4.325415</td>\n",
       "      <td>0.310286</td>\n",
       "      <td>2:37:49</td>\n",
       "    </tr>\n",
       "    <tr>\n",
       "      <td>1</td>\n",
       "      <td>4.504363</td>\n",
       "      <td>4.492033</td>\n",
       "      <td>0.294615</td>\n",
       "      <td>2:38:05</td>\n",
       "    </tr>\n",
       "    <tr>\n",
       "      <td>2</td>\n",
       "      <td>4.591702</td>\n",
       "      <td>4.564445</td>\n",
       "      <td>0.287716</td>\n",
       "      <td>2:37:56</td>\n",
       "    </tr>\n",
       "    <tr>\n",
       "      <td>3</td>\n",
       "      <td>4.536796</td>\n",
       "      <td>4.547905</td>\n",
       "      <td>0.288528</td>\n",
       "      <td>2:37:43</td>\n",
       "    </tr>\n",
       "    <tr>\n",
       "      <td>4</td>\n",
       "      <td>4.521063</td>\n",
       "      <td>4.500783</td>\n",
       "      <td>0.293255</td>\n",
       "      <td>2:37:57</td>\n",
       "    </tr>\n",
       "    <tr>\n",
       "      <td>5</td>\n",
       "      <td>4.416158</td>\n",
       "      <td>4.420656</td>\n",
       "      <td>0.299685</td>\n",
       "      <td>2:37:45</td>\n",
       "    </tr>\n",
       "    <tr>\n",
       "      <td>6</td>\n",
       "      <td>4.344989</td>\n",
       "      <td>4.323297</td>\n",
       "      <td>0.307992</td>\n",
       "      <td>2:37:53</td>\n",
       "    </tr>\n",
       "    <tr>\n",
       "      <td>7</td>\n",
       "      <td>4.196101</td>\n",
       "      <td>4.198405</td>\n",
       "      <td>0.322229</td>\n",
       "      <td>2:37:48</td>\n",
       "    </tr>\n",
       "    <tr>\n",
       "      <td>8</td>\n",
       "      <td>4.064900</td>\n",
       "      <td>4.075106</td>\n",
       "      <td>0.337517</td>\n",
       "      <td>2:37:57</td>\n",
       "    </tr>\n",
       "    <tr>\n",
       "      <td>9</td>\n",
       "      <td>3.995485</td>\n",
       "      <td>4.005140</td>\n",
       "      <td>0.348630</td>\n",
       "      <td>2:37:55</td>\n",
       "    </tr>\n",
       "  </tbody>\n",
       "</table>"
      ],
      "text/plain": [
       "<IPython.core.display.HTML object>"
      ]
     },
     "metadata": {},
     "output_type": "display_data"
    },
    {
     "name": "stdout",
     "output_type": "stream",
     "text": [
      "Better model found at epoch 0 with accuracy value: 0.3102859556674957.\n",
      "Better model found at epoch 7 with accuracy value: 0.3222292363643646.\n",
      "Better model found at epoch 8 with accuracy value: 0.3375166654586792.\n",
      "Better model found at epoch 9 with accuracy value: 0.3486296236515045.\n"
     ]
    }
   ],
   "source": [
    "learn.unfreeze()\n",
    "learn.fit_one_cycle(10, lr, moms=(0.8,0.7), callbacks=[SaveModelCallback(learn, every='improvement', monitor='accuracy', name='lm')])"
   ]
  },
  {
   "cell_type": "code",
   "execution_count": 13,
   "metadata": {},
   "outputs": [],
   "source": [
    "learn.save_encoder('lm_enc_v2_head')"
   ]
  },
  {
   "cell_type": "code",
   "execution_count": 11,
   "metadata": {},
   "outputs": [
    {
     "data": {
      "text/html": [],
      "text/plain": [
       "<IPython.core.display.HTML object>"
      ]
     },
     "metadata": {},
     "output_type": "display_data"
    },
    {
     "name": "stdout",
     "output_type": "stream",
     "text": [
      "LR Finder is complete, type {learner_name}.recorder.plot() to see the graph.\n",
      "Min numerical gradient: 2.09E-05\n",
      "Min loss divided by 10: 1.32E-05\n"
     ]
    },
    {
     "data": {
      "image/png": "[encoded data removed]",
      "text/plain": [
       "<Figure size 432x288 with 1 Axes>"
      ]
     },
     "metadata": {
      "needs_background": "light"
     },
     "output_type": "display_data"
    }
   ],
   "source": [
    "learn.lr_find()\n",
    "learn.recorder.plot(skip_end=10, skip_start=20, suggestion=True)"
   ]
  },
  {
   "cell_type": "code",
   "execution_count": 14,
   "metadata": {},
   "outputs": [
    {
     "data": {
      "text/html": [
       "<table border=\"1\" class=\"dataframe\">\n",
       "  <thead>\n",
       "    <tr style=\"text-align: left;\">\n",
       "      <th>epoch</th>\n",
       "      <th>train_loss</th>\n",
       "      <th>valid_loss</th>\n",
       "      <th>accuracy</th>\n",
       "      <th>time</th>\n",
       "    </tr>\n",
       "  </thead>\n",
       "  <tbody>\n",
       "    <tr>\n",
       "      <td>0</td>\n",
       "      <td>4.167408</td>\n",
       "      <td>4.169284</td>\n",
       "      <td>0.325084</td>\n",
       "      <td>2:36:09</td>\n",
       "    </tr>\n",
       "    <tr>\n",
       "      <td>1</td>\n",
       "      <td>4.137351</td>\n",
       "      <td>4.087568</td>\n",
       "      <td>0.335562</td>\n",
       "      <td>2:36:14</td>\n",
       "    </tr>\n",
       "    <tr>\n",
       "      <td>2</td>\n",
       "      <td>4.023909</td>\n",
       "      <td>3.995072</td>\n",
       "      <td>0.349512</td>\n",
       "      <td>2:36:24</td>\n",
       "    </tr>\n",
       "  </tbody>\n",
       "</table>"
      ],
      "text/plain": [
       "<IPython.core.display.HTML object>"
      ]
     },
     "metadata": {},
     "output_type": "display_data"
    }
   ],
   "source": [
    "learn.unfreeze()\n",
    "learn.fit_one_cycle(3, 6e-4, moms=(0.8,0.7), wd=0.1)"
   ]
  },
  {
   "cell_type": "code",
   "execution_count": 15,
   "metadata": {},
   "outputs": [],
   "source": [
    "learn.save_encoder('lm_enc_v2')"
   ]
  },
  {
   "cell_type": "code",
   "execution_count": 18,
   "metadata": {},
   "outputs": [],
   "source": [
    "learn.data.vocab.save('lm_enc_v2.pkl')"
   ]
  },
  {
   "cell_type": "code",
   "execution_count": 17,
   "metadata": {},
   "outputs": [],
   "source": [
    "SPProcessor.load??"
   ]
  },
  {
   "cell_type": "code",
   "execution_count": 5,
   "metadata": {},
   "outputs": [],
   "source": [
    "if not (PATH / 'data_clas_export.pkl').exists():\n",
    "    df = pd.read_csv(PATH / 'train_prepro.csv')\n",
    "    data_clas = (TextList.from_df(df, cols=['language', 'title'], processor = SPProcessor.load(''))\n",
    "        .split_by_rand_pct(0.02, seed=42)\n",
    "        .label_from_df(cols='category')\n",
    "        .databunch(bs=64, num_workers=1))\n",
    "    \n",
    "    data_clas.save('data_clas_export.pkl')\n",
    "else:\n",
    "    data_clas = load_data(PATH, 'data_clas_export.pkl')"
   ]
  },
  {
   "cell_type": "code",
   "execution_count": 7,
   "metadata": {},
   "outputs": [
    {
     "data": {
      "text/html": [
       "<table border=\"1\" class=\"dataframe\">\n",
       "  <thead>\n",
       "    <tr style=\"text-align: right;\">\n",
       "      <th>text</th>\n",
       "      <th>target</th>\n",
       "    </tr>\n",
       "  </thead>\n",
       "  <tbody>\n",
       "    <tr>\n",
       "      <td>▁xxbos ▁spanish ▁cooler ▁para ▁hp ▁g 1 ▁1 d 1 ca ▁g 1 ▁1 d 1 d x ▁g 1 ▁1 d 1 ca ▁g 1 ▁1 d 1 nr ▁g 1 ▁1 d 1 ca ▁g 1 ▁1 d 1 u ▁g 1 ▁1 d 1 ca ▁g 1 ▁1 d 1 d x ▁g 1 ▁1 d 1 cl ▁g 1 ▁1 d 1 d x ▁g 1</td>\n",
       "      <td>DESKTOP_COMPUTER_COOLERS_AND_FANS</td>\n",
       "    </tr>\n",
       "    <tr>\n",
       "      <td>▁xxbos ▁spanish ▁transistor ▁igbt ▁hgt g 1 n 1 c 1 ▁g 1 n 1 c 1 ▁1 n 1 c 1 ▁1 v ▁1 a ▁ta ▁1</td>\n",
       "      <td>TRANSISTORS</td>\n",
       "    </tr>\n",
       "    <tr>\n",
       "      <td>▁xxbos ▁spanish ▁cooler ▁delta ▁ff b 1 sh n ▁1 x 1 x 1 mm ▁1 mm ▁1 ▁dc ▁1 v ▁1 ▁1 a</td>\n",
       "      <td>DESKTOP_COMPUTER_COOLERS_AND_FANS</td>\n",
       "    </tr>\n",
       "    <tr>\n",
       "      <td>▁xxbos ▁spanish ▁bateria ▁bt 1 b ▁1 ▁yt 1 b ▁b ▁ky m co 1 ▁qua n non ▁na ke ▁b ▁battery ▁ryd</td>\n",
       "      <td>MOTORCYCLE_BATTERIES</td>\n",
       "    </tr>\n",
       "    <tr>\n",
       "      <td>▁xxbos ▁portuguese ▁pacote ▁1 ▁chave ▁contator a ▁tripolar ▁1 a ▁lc 1 ▁d 1 m 1 ▁1 p ▁aux ▁nf ▁na ▁1 v</td>\n",
       "      <td>HOME_APPLIANCE_CONTACTORS_AND_RELAYS</td>\n",
       "    </tr>\n",
       "    <tr>\n",
       "      <td>▁xxbos ▁portuguese ▁chave ▁de ▁impacta ▁1 ▁1 mm ▁1 v ▁1 ah ▁1 v ▁max ▁dewalt ▁dcf 1 m 1 ▁com ▁maleta</td>\n",
       "      <td>IMPACT_WRENCHES</td>\n",
       "    </tr>\n",
       "    <tr>\n",
       "      <td>▁xxbos ▁spanish ▁bateria ▁de ▁ni ▁mh ▁1 ▁x ▁1 ▁1 v ▁h nn 1 a ▁para ▁motorola ▁gp 1 ▁lc s 1</td>\n",
       "      <td>CELLPHONE_BATTERIES</td>\n",
       "    </tr>\n",
       "    <tr>\n",
       "      <td>▁xxbos ▁spanish ▁memoria ▁kingston ▁ddr 1 ▁ecc ▁1 gb ▁kit ▁1 x ▁1 gb ▁kvr 1 e 1 k 1 ▁1</td>\n",
       "      <td>RAM_MEMORY_MODULES</td>\n",
       "    </tr>\n",
       "    <tr>\n",
       "      <td>▁xxbos ▁spanish ▁ventilador ▁cooler ▁fan ▁eb m ▁pa p st ▁1 vdc ▁1 x 1 x 1 mm ▁typ 1 ▁1</td>\n",
       "      <td>DESKTOP_COMPUTER_COOLERS_AND_FANS</td>\n",
       "    </tr>\n",
       "    <tr>\n",
       "      <td>▁xxbos ▁portuguese ▁cortina ▁suede ▁1 ▁1 m ▁x ▁1 ▁1 m ▁p ▁varaa ▁1 m ▁x ale ▁1 ▁1 m ▁franja</td>\n",
       "      <td>INDOOR_CURTAINS_AND_BLINDS</td>\n",
       "    </tr>\n",
       "  </tbody>\n",
       "</table>"
      ],
      "text/plain": [
       "<IPython.core.display.HTML object>"
      ]
     },
     "metadata": {},
     "output_type": "display_data"
    }
   ],
   "source": [
    "data_clas.show_batch(rows=10)"
   ]
  },
  {
   "cell_type": "code",
   "execution_count": 21,
   "metadata": {},
   "outputs": [
    {
     "data": {
      "text/plain": [
       "Text xxbos diesel zera plu m decant amostra xxmaj xml original frete grati"
      ]
     },
     "execution_count": 21,
     "metadata": {},
     "output_type": "execute_result"
    }
   ],
   "source": [
    "data_clas.train_ds.x[6]"
   ]
  },
  {
   "cell_type": "code",
   "execution_count": 8,
   "metadata": {},
   "outputs": [],
   "source": [
    "learn = text_classifier_learner(data_clas, AWD_LSTM, drop_mult=0.5, bptt=16, path=PATH, pretrained=False, wd=0.1)\n",
    "learn.load_encoder('lm_enc_v2')\n",
    "learn.freeze()"
   ]
  },
  {
   "cell_type": "code",
   "execution_count": 10,
   "metadata": {},
   "outputs": [],
   "source": [
    "lr=2e-2\n",
    "lr *= 64/48"
   ]
  },
  {
   "cell_type": "code",
   "execution_count": 12,
   "metadata": {},
   "outputs": [
    {
     "data": {
      "text/html": [
       "<table border=\"1\" class=\"dataframe\">\n",
       "  <thead>\n",
       "    <tr style=\"text-align: left;\">\n",
       "      <th>epoch</th>\n",
       "      <th>train_loss</th>\n",
       "      <th>valid_loss</th>\n",
       "      <th>accuracy</th>\n",
       "      <th>time</th>\n",
       "    </tr>\n",
       "  </thead>\n",
       "  <tbody>\n",
       "    <tr>\n",
       "      <td>0</td>\n",
       "      <td>2.911806</td>\n",
       "      <td>2.204494</td>\n",
       "      <td>0.527376</td>\n",
       "      <td>1:00:41</td>\n",
       "    </tr>\n",
       "    <tr>\n",
       "      <td>1</td>\n",
       "      <td>1.584605</td>\n",
       "      <td>1.157751</td>\n",
       "      <td>0.769114</td>\n",
       "      <td>59:31</td>\n",
       "    </tr>\n",
       "  </tbody>\n",
       "</table>"
      ],
      "text/plain": [
       "<IPython.core.display.HTML object>"
      ]
     },
     "metadata": {},
     "output_type": "display_data"
    }
   ],
   "source": [
    "learn.fit_one_cycle(2, lr, moms=(0.8,0.7))"
   ]
  },
  {
   "cell_type": "code",
   "execution_count": 13,
   "metadata": {},
   "outputs": [],
   "source": [
    "learn.save('classifier_v2_0')"
   ]
  },
  {
   "cell_type": "code",
   "execution_count": 14,
   "metadata": {},
   "outputs": [
    {
     "data": {
      "text/html": [
       "<table border=\"1\" class=\"dataframe\">\n",
       "  <thead>\n",
       "    <tr style=\"text-align: left;\">\n",
       "      <th>epoch</th>\n",
       "      <th>train_loss</th>\n",
       "      <th>valid_loss</th>\n",
       "      <th>accuracy</th>\n",
       "      <th>time</th>\n",
       "    </tr>\n",
       "  </thead>\n",
       "  <tbody>\n",
       "    <tr>\n",
       "      <td>0</td>\n",
       "      <td>2.896475</td>\n",
       "      <td>2.197062</td>\n",
       "      <td>0.530046</td>\n",
       "      <td>59:58</td>\n",
       "    </tr>\n",
       "    <tr>\n",
       "      <td>1</td>\n",
       "      <td>1.688922</td>\n",
       "      <td>1.158908</td>\n",
       "      <td>0.768067</td>\n",
       "      <td>1:01:46</td>\n",
       "    </tr>\n",
       "  </tbody>\n",
       "</table>"
      ],
      "text/plain": [
       "<IPython.core.display.HTML object>"
      ]
     },
     "metadata": {},
     "output_type": "display_data"
    }
   ],
   "source": [
    "\n",
    "learn.fit_one_cycle(2, lr, moms=(0.8,0.7))"
   ]
  },
  {
   "cell_type": "code",
   "execution_count": 15,
   "metadata": {},
   "outputs": [],
   "source": [
    "learn.save('class_fit_head_v2')"
   ]
  },
  {
   "cell_type": "code",
   "execution_count": 16,
   "metadata": {},
   "outputs": [],
   "source": [
    "learn.freeze_to(-2)"
   ]
  },
  {
   "cell_type": "code",
   "execution_count": 17,
   "metadata": {},
   "outputs": [
    {
     "data": {
      "text/html": [
       "<table border=\"1\" class=\"dataframe\">\n",
       "  <thead>\n",
       "    <tr style=\"text-align: left;\">\n",
       "      <th>epoch</th>\n",
       "      <th>train_loss</th>\n",
       "      <th>valid_loss</th>\n",
       "      <th>accuracy</th>\n",
       "      <th>time</th>\n",
       "    </tr>\n",
       "  </thead>\n",
       "  <tbody>\n",
       "    <tr>\n",
       "      <td>0</td>\n",
       "      <td>1.138601</td>\n",
       "      <td>0.866741</td>\n",
       "      <td>0.821265</td>\n",
       "      <td>1:10:49</td>\n",
       "    </tr>\n",
       "  </tbody>\n",
       "</table>"
      ],
      "text/plain": [
       "<IPython.core.display.HTML object>"
      ]
     },
     "metadata": {},
     "output_type": "display_data"
    }
   ],
   "source": [
    "learn.fit_one_cycle(1, slice(3e-3/(2.6**4), 3e-3), moms=(0.8, 0.7))"
   ]
  },
  {
   "cell_type": "code",
   "execution_count": 6,
   "metadata": {},
   "outputs": [],
   "source": [
    "learn = text_classifier_learner(data_clas, AWD_LSTM, drop_mult=0.5, bptt=16, path=PATH, pretrained=False, wd=0.1)\n",
    "learn.load('class_fit_head_v2')\n",
    "learn.freeze_to(-3)"
   ]
  },
  {
   "cell_type": "code",
   "execution_count": 7,
   "metadata": {},
   "outputs": [
    {
     "data": {
      "text/html": [
       "<table border=\"1\" class=\"dataframe\">\n",
       "  <thead>\n",
       "    <tr style=\"text-align: left;\">\n",
       "      <th>epoch</th>\n",
       "      <th>train_loss</th>\n",
       "      <th>valid_loss</th>\n",
       "      <th>accuracy</th>\n",
       "      <th>time</th>\n",
       "    </tr>\n",
       "  </thead>\n",
       "  <tbody>\n",
       "    <tr>\n",
       "      <td>0</td>\n",
       "      <td>0.979064</td>\n",
       "      <td>0.800780</td>\n",
       "      <td>0.839977</td>\n",
       "      <td>1:43:41</td>\n",
       "    </tr>\n",
       "  </tbody>\n",
       "</table>"
      ],
      "text/plain": [
       "<IPython.core.display.HTML object>"
      ]
     },
     "metadata": {},
     "output_type": "display_data"
    }
   ],
   "source": [
    "learn.fit_one_cycle(1, slice(3e-3/(2.6**4), 3e-3), moms=(0.8, 0.7))"
   ]
  },
  {
   "cell_type": "code",
   "execution_count": 8,
   "metadata": {},
   "outputs": [],
   "source": [
    "learn.save('class_fit_head_v2')"
   ]
  },
  {
   "cell_type": "code",
   "execution_count": 113,
   "metadata": {},
   "outputs": [],
   "source": [
    "learn.unfreeze()"
   ]
  },
  {
   "cell_type": "code",
   "execution_count": 114,
   "metadata": {},
   "outputs": [
    {
     "data": {
      "text/html": [
       "<table border=\"1\" class=\"dataframe\">\n",
       "  <thead>\n",
       "    <tr style=\"text-align: left;\">\n",
       "      <th>epoch</th>\n",
       "      <th>train_loss</th>\n",
       "      <th>valid_loss</th>\n",
       "      <th>accuracy</th>\n",
       "      <th>time</th>\n",
       "    </tr>\n",
       "  </thead>\n",
       "  <tbody>\n",
       "    <tr>\n",
       "      <td>0</td>\n",
       "      <td>0.823603</td>\n",
       "      <td>0.660990</td>\n",
       "      <td>0.855746</td>\n",
       "      <td>1:21:06</td>\n",
       "    </tr>\n",
       "    <tr>\n",
       "      <td>1</td>\n",
       "      <td>0.806030</td>\n",
       "      <td>0.629765</td>\n",
       "      <td>0.861902</td>\n",
       "      <td>1:21:58</td>\n",
       "    </tr>\n",
       "    <tr>\n",
       "      <td>2</td>\n",
       "      <td>0.741846</td>\n",
       "      <td>0.603677</td>\n",
       "      <td>0.867034</td>\n",
       "      <td>1:02:37</td>\n",
       "    </tr>\n",
       "    <tr>\n",
       "      <td>3</td>\n",
       "      <td>0.704139</td>\n",
       "      <td>0.584585</td>\n",
       "      <td>0.871320</td>\n",
       "      <td>1:14:34</td>\n",
       "    </tr>\n",
       "    <tr>\n",
       "      <td>4</td>\n",
       "      <td>0.688411</td>\n",
       "      <td>0.566787</td>\n",
       "      <td>0.874653</td>\n",
       "      <td>1:24:44</td>\n",
       "    </tr>\n",
       "    <tr>\n",
       "      <td>5</td>\n",
       "      <td>0.644176</td>\n",
       "      <td>0.550823</td>\n",
       "      <td>0.877210</td>\n",
       "      <td>1:25:56</td>\n",
       "    </tr>\n",
       "    <tr>\n",
       "      <td>6</td>\n",
       "      <td>0.633675</td>\n",
       "      <td>0.548044</td>\n",
       "      <td>0.878074</td>\n",
       "      <td>1:23:38</td>\n",
       "    </tr>\n",
       "  </tbody>\n",
       "</table>"
      ],
      "text/plain": [
       "<IPython.core.display.HTML object>"
      ]
     },
     "metadata": {},
     "output_type": "display_data"
    }
   ],
   "source": [
    "learn.fit_one_cycle(\n",
    "    7, slice(3e-3/(2.6**4), 3e-3), moms=(0.8, 0.7), \n",
    "    callbacks=[SaveModelCallback(learn, every='improvement', monitor='accuracy', name='class_fit_full_v2')]\n",
    ")"
   ]
  },
  {
   "cell_type": "code",
   "execution_count": 75,
   "metadata": {},
   "outputs": [
    {
     "data": {
      "text/html": [],
      "text/plain": [
       "<IPython.core.display.HTML object>"
      ]
     },
     "metadata": {},
     "output_type": "display_data"
    },
    {
     "name": "stdout",
     "output_type": "stream",
     "text": [
      "LR Finder is complete, type {learner_name}.recorder.plot() to see the graph.\n",
      "Min numerical gradient: 3.31E-06\n",
      "Min loss divided by 10: 2.51E-04\n"
     ]
    },
    {
     "data": {
      "image/png": "[encoded data removed]",
      "text/plain": [
       "<Figure size 432x288 with 1 Axes>"
      ]
     },
     "metadata": {
      "needs_background": "light"
     },
     "output_type": "display_data"
    }
   ],
   "source": [
    "learn.lr_find()\n",
    "learn.recorder.plot(skip_end=10, skip_start=15, suggestion=True)"
   ]
  },
  {
   "cell_type": "code",
   "execution_count": 116,
   "metadata": {},
   "outputs": [
    {
     "data": {
      "text/html": [
       "<table border=\"1\" class=\"dataframe\">\n",
       "  <thead>\n",
       "    <tr style=\"text-align: left;\">\n",
       "      <th>epoch</th>\n",
       "      <th>train_loss</th>\n",
       "      <th>valid_loss</th>\n",
       "      <th>accuracy</th>\n",
       "      <th>time</th>\n",
       "    </tr>\n",
       "  </thead>\n",
       "  <tbody>\n",
       "    <tr>\n",
       "      <td>0</td>\n",
       "      <td>0.683283</td>\n",
       "      <td>0.547660</td>\n",
       "      <td>0.878459</td>\n",
       "      <td>1:19:43</td>\n",
       "    </tr>\n",
       "  </tbody>\n",
       "</table>"
      ],
      "text/plain": [
       "<IPython.core.display.HTML object>"
      ]
     },
     "metadata": {},
     "output_type": "display_data"
    }
   ],
   "source": [
    "learn.fit_one_cycle(1, 1e-4/2)"
   ]
  },
  {
   "cell_type": "code",
   "execution_count": 117,
   "metadata": {},
   "outputs": [],
   "source": [
    "learn.save('class_fit_top3')"
   ]
  },
  {
   "cell_type": "code",
   "execution_count": 118,
   "metadata": {},
   "outputs": [
    {
     "data": {
      "text/html": [
       "<table border=\"1\" class=\"dataframe\">\n",
       "  <thead>\n",
       "    <tr style=\"text-align: left;\">\n",
       "      <th>epoch</th>\n",
       "      <th>train_loss</th>\n",
       "      <th>valid_loss</th>\n",
       "      <th>accuracy</th>\n",
       "      <th>time</th>\n",
       "    </tr>\n",
       "  </thead>\n",
       "  <tbody>\n",
       "    <tr>\n",
       "      <td>0</td>\n",
       "      <td>0.649676</td>\n",
       "      <td>0.565369</td>\n",
       "      <td>0.875279</td>\n",
       "      <td>1:23:05</td>\n",
       "    </tr>\n",
       "  </tbody>\n",
       "</table>"
      ],
      "text/plain": [
       "<IPython.core.display.HTML object>"
      ]
     },
     "metadata": {},
     "output_type": "display_data"
    }
   ],
   "source": [
    "learn.fit_one_cycle(1, 1e-2/3)"
   ]
  },
  {
   "cell_type": "code",
   "execution_count": 9,
   "metadata": {},
   "outputs": [
    {
     "data": {
      "text/plain": [
       "RNNLearner(data=TextClasDataBunch;\n",
       "\n",
       "Train: LabelList (19599954 items)\n",
       "x: TextList\n",
       "▁xxbos ▁spanish ▁hidrolavadora ▁lavor ▁one ▁1 ▁bar ▁1 w ▁bomba ▁aluminia ▁italia,▁xxbos ▁spanish ▁placa ▁de ▁sonida ▁behringer ▁umc 1,▁xxbos ▁portuguese ▁maquina ▁de ▁lavar ▁electrolux ▁1 ▁kila,▁xxbos ▁portuguese ▁par ▁disca ▁de ▁freia ▁diant ▁vent ▁gol ▁1 v ▁1 ▁fremax ▁bd 1,▁xxbos ▁spanish ▁flash e ▁led ▁pestana ▁luminosa ▁falsa ▁pestana ▁para ▁partida\n",
       "y: CategoryList\n",
       "ELECTRIC_PRESSURE_WASHERS,SOUND_CARDS,WASHING_MACHINES,VEHICLE_BRAKE_DISCS,FALSE_EYELASHES\n",
       "Path: .;\n",
       "\n",
       "Valid: LabelList (399999 items)\n",
       "x: TextList\n",
       "▁xxbos ▁portuguese ▁roupa ▁termica ▁forra ▁peluciada ▁segunda ▁pele ▁viagem ▁e ▁pijama,▁xxbos ▁portuguese ▁cafeteira ▁eletrica ▁d cm 1 z ▁makita ▁1 v ▁original ▁bateria,▁xxbos ▁portuguese ▁correia ▁panificadora ▁p rita nia ▁multipane ▁polia ▁arruela,▁xxbos ▁portuguese ▁colchaa ▁d 1 ▁solteira ▁americana ▁medida ▁especial ▁pra ▁confort,▁xxbos ▁portuguese ▁baba ▁eletronica ▁motorola ▁mbp 1 ▁connect ▁wifi ▁original\n",
       "y: CategoryList\n",
       "SWEATSHIRTS_AND_HOODIES,COFFEE_CAPSULES,BREAD_MAKERS,MATTRESSES,BABY_MONITORS\n",
       "Path: .;\n",
       "\n",
       "Test: None, model=SequentialRNN(\n",
       "  (0): MultiBatchEncoder(\n",
       "    (module): AWD_LSTM(\n",
       "      (encoder): Embedding(30000, 400, padding_idx=1)\n",
       "      (encoder_dp): EmbeddingDropout(\n",
       "        (emb): Embedding(30000, 400, padding_idx=1)\n",
       "      )\n",
       "      (rnns): ModuleList(\n",
       "        (0): WeightDropout(\n",
       "          (module): LSTM(400, 1152, batch_first=True)\n",
       "        )\n",
       "        (1): WeightDropout(\n",
       "          (module): LSTM(1152, 1152, batch_first=True)\n",
       "        )\n",
       "        (2): WeightDropout(\n",
       "          (module): LSTM(1152, 400, batch_first=True)\n",
       "        )\n",
       "      )\n",
       "      (input_dp): RNNDropout()\n",
       "      (hidden_dps): ModuleList(\n",
       "        (0): RNNDropout()\n",
       "        (1): RNNDropout()\n",
       "        (2): RNNDropout()\n",
       "      )\n",
       "    )\n",
       "  )\n",
       "  (1): PoolingLinearClassifier(\n",
       "    (layers): Sequential(\n",
       "      (0): BatchNorm1d(1200, eps=1e-05, momentum=0.1, affine=True, track_running_stats=True)\n",
       "      (1): Dropout(p=0.2)\n",
       "      (2): Linear(in_features=1200, out_features=50, bias=True)\n",
       "      (3): ReLU(inplace)\n",
       "      (4): BatchNorm1d(50, eps=1e-05, momentum=0.1, affine=True, track_running_stats=True)\n",
       "      (5): Dropout(p=0.1)\n",
       "      (6): Linear(in_features=50, out_features=1588, bias=True)\n",
       "    )\n",
       "  )\n",
       "), opt_func=functools.partial(<class 'torch.optim.adam.Adam'>, betas=(0.9, 0.99)), loss_func=FlattenedLoss of CrossEntropyLoss(), metrics=[<function accuracy at 0x7f57c6600b70>], true_wd=True, bn_wd=True, wd=0.1, train_bn=True, path=PosixPath('.'), model_dir='models', callback_fns=[functools.partial(<class 'fastai.basic_train.Recorder'>, add_time=True, silent=False)], callbacks=[RNNTrainer\n",
       "learn: ...\n",
       "alpha: 2.0\n",
       "beta: 1.0], layer_groups=[Sequential(\n",
       "  (0): Embedding(30000, 400, padding_idx=1)\n",
       "  (1): EmbeddingDropout(\n",
       "    (emb): Embedding(30000, 400, padding_idx=1)\n",
       "  )\n",
       "), Sequential(\n",
       "  (0): WeightDropout(\n",
       "    (module): LSTM(400, 1152, batch_first=True)\n",
       "  )\n",
       "  (1): RNNDropout()\n",
       "), Sequential(\n",
       "  (0): WeightDropout(\n",
       "    (module): LSTM(1152, 1152, batch_first=True)\n",
       "  )\n",
       "  (1): RNNDropout()\n",
       "), Sequential(\n",
       "  (0): WeightDropout(\n",
       "    (module): LSTM(1152, 400, batch_first=True)\n",
       "  )\n",
       "  (1): RNNDropout()\n",
       "), Sequential(\n",
       "  (0): PoolingLinearClassifier(\n",
       "    (layers): Sequential(\n",
       "      (0): BatchNorm1d(1200, eps=1e-05, momentum=0.1, affine=True, track_running_stats=True)\n",
       "      (1): Dropout(p=0.2)\n",
       "      (2): Linear(in_features=1200, out_features=50, bias=True)\n",
       "      (3): ReLU(inplace)\n",
       "      (4): BatchNorm1d(50, eps=1e-05, momentum=0.1, affine=True, track_running_stats=True)\n",
       "      (5): Dropout(p=0.1)\n",
       "      (6): Linear(in_features=50, out_features=1588, bias=True)\n",
       "    )\n",
       "  )\n",
       ")], add_time=True, silent=False, cb_fns_registered=False)"
      ]
     },
     "execution_count": 9,
     "metadata": {},
     "output_type": "execute_result"
    }
   ],
   "source": [
    "learn = text_classifier_learner(data_clas, AWD_LSTM, drop_mult=0.5, bptt=16, path=PATH, pretrained=False, wd=0.1)\n",
    "learn.load('class_fit_head_v2')"
   ]
  },
  {
   "cell_type": "code",
   "execution_count": 11,
   "metadata": {},
   "outputs": [
    {
     "data": {
      "text/html": [
       "<table border=\"1\" class=\"dataframe\">\n",
       "  <thead>\n",
       "    <tr style=\"text-align: right;\">\n",
       "      <th>text</th>\n",
       "      <th>target</th>\n",
       "      <th>prediction</th>\n",
       "    </tr>\n",
       "  </thead>\n",
       "  <tbody>\n",
       "    <tr>\n",
       "      <td>▁xxbos ▁spanish ▁cooler ▁para ▁hp ▁g 1 ▁1 d 1 d x ▁g 1 ▁1 d 1 d x ▁g 1 ▁1 d 1 d x ▁g 1 ▁1 d 1 d x ▁g 1 ▁1 d 1 d x ▁g 1 ▁1 d 1 ca ▁g 1 ▁1 d 1 ca ▁g 1 ▁1 d 1 d x ▁g 1 ▁1 d 1 ca ▁g 1 ▁1 d 1</td>\n",
       "      <td>DESKTOP_COMPUTER_COOLERS_AND_FANS</td>\n",
       "      <td>DESKTOP_COMPUTER_COOLERS_AND_FANS</td>\n",
       "    </tr>\n",
       "    <tr>\n",
       "      <td>▁xxbos ▁spanish ▁cooler ▁para ▁hp ▁g 1 ▁1 a 1 u ▁g 1 ▁1 a 1 u ▁g 1 ▁1 a 1 nr ▁g 1 ▁1 a 1 nr ▁g 1 ▁1 a 1 w m ▁g 1 ▁1 a 1 nr ▁g 1 ▁1 a 1 nr ▁g 1 ▁1 a 1 u ▁g 1 ▁1 a 1 nr ▁g 1 ▁1 a 1 d x ▁g 1 ▁1</td>\n",
       "      <td>DESKTOP_COMPUTER_COOLERS_AND_FANS</td>\n",
       "      <td>DESKTOP_COMPUTER_COOLERS_AND_FANS</td>\n",
       "    </tr>\n",
       "    <tr>\n",
       "      <td>▁xxbos ▁spanish ▁bateria ▁aa ▁p bz n 1 tp ▁para ▁samsung ▁chromebook ▁1 ▁ativ ▁x e 1 t 1 c ▁1 c ▁x e 1 c 1 ▁x e 1 c ▁x e 1 t ▁x e 1 c ▁x e 1 c ▁x e 1 c 1 ▁x e 1 c 1 ▁a</td>\n",
       "      <td>LAPTOP_BATTERIES</td>\n",
       "      <td>LAPTOP_BATTERIES</td>\n",
       "    </tr>\n",
       "    <tr>\n",
       "      <td>▁xxbos ▁spanish ▁bateria ▁a 1 ▁u 1 ▁para ▁asu ▁u 1 ▁u 1 a ▁q 1 ▁q 1 a ▁q 1 c ▁r 1 ▁u 1 c ▁u 1 v ▁u 1 v c ▁serie ▁a 1 ▁u 1 ▁a 1 ▁u 1 ▁a 1 ▁u 1 ▁1 v ▁1 mah ▁1</td>\n",
       "      <td>LAPTOP_BATTERIES</td>\n",
       "      <td>LAPTOP_BATTERIES</td>\n",
       "    </tr>\n",
       "    <tr>\n",
       "      <td>▁xxbos ▁portuguese ▁controle ▁akb 1 ▁lm nc 1 l ra 1 ▁amb bla t ▁lm nc 1 lt a 1 ▁amba la t ▁ts nh 1 lb a 1 ▁amba la z ▁lt nh 1 q le 1 ▁an w bla t ▁sh n 1 q a ▁am bba m z</td>\n",
       "      <td>AIR_CONDITIONER_REMOTE_CONTROLS</td>\n",
       "      <td>AIR_CONDITIONER_REMOTE_CONTROLS</td>\n",
       "    </tr>\n",
       "  </tbody>\n",
       "</table>"
      ],
      "text/plain": [
       "<IPython.core.display.HTML object>"
      ]
     },
     "metadata": {},
     "output_type": "display_data"
    }
   ],
   "source": [
    "learn.show_results()"
   ]
  },
  {
   "cell_type": "code",
   "execution_count": 38,
   "metadata": {},
   "outputs": [],
   "source": [
    "test = pd.read_csv(PATH / 'test.csv')"
   ]
  },
  {
   "cell_type": "code",
   "execution_count": 39,
   "metadata": {},
   "outputs": [],
   "source": [
    "test['title'] = test.language + ' ' + test.title.apply(normalize_title)\n",
    "test.pop('id');\n",
    "test.pop('language');"
   ]
  },
  {
   "cell_type": "code",
   "execution_count": 40,
   "metadata": {},
   "outputs": [
    {
     "data": {
      "text/html": [
       "<div>\n",
       "<style scoped>\n",
       "    .dataframe tbody tr th:only-of-type {\n",
       "        vertical-align: middle;\n",
       "    }\n",
       "\n",
       "    .dataframe tbody tr th {\n",
       "        vertical-align: top;\n",
       "    }\n",
       "\n",
       "    .dataframe thead th {\n",
       "        text-align: right;\n",
       "    }\n",
       "</style>\n",
       "<table border=\"1\" class=\"dataframe\">\n",
       "  <thead>\n",
       "    <tr style=\"text-align: right;\">\n",
       "      <th></th>\n",
       "      <th>title</th>\n",
       "    </tr>\n",
       "  </thead>\n",
       "  <tbody>\n",
       "    <tr>\n",
       "      <th>0</th>\n",
       "      <td>portuguese kit maternidade bolsa mala baby beb...</td>\n",
       "    </tr>\n",
       "    <tr>\n",
       "      <th>1</th>\n",
       "      <td>portuguese trocador de fralda fisher price fem...</td>\n",
       "    </tr>\n",
       "    <tr>\n",
       "      <th>2</th>\n",
       "      <td>portuguese motor ventoinha fiat idea palia 1 a...</td>\n",
       "    </tr>\n",
       "    <tr>\n",
       "      <th>3</th>\n",
       "      <td>portuguese amortecedor mola batente d dir new ...</td>\n",
       "    </tr>\n",
       "    <tr>\n",
       "      <th>4</th>\n",
       "      <td>portuguese cadeirinha de carra bebe princesa p...</td>\n",
       "    </tr>\n",
       "  </tbody>\n",
       "</table>\n",
       "</div>"
      ],
      "text/plain": [
       "                                               title\n",
       "0  portuguese kit maternidade bolsa mala baby beb...\n",
       "1  portuguese trocador de fralda fisher price fem...\n",
       "2  portuguese motor ventoinha fiat idea palia 1 a...\n",
       "3  portuguese amortecedor mola batente d dir new ...\n",
       "4  portuguese cadeirinha de carra bebe princesa p..."
      ]
     },
     "execution_count": 40,
     "metadata": {},
     "output_type": "execute_result"
    }
   ],
   "source": [
    "test.head()"
   ]
  },
  {
   "cell_type": "code",
   "execution_count": 41,
   "metadata": {},
   "outputs": [],
   "source": [
    "learn.data.add_test(test, label=None)"
   ]
  },
  {
   "cell_type": "code",
   "execution_count": 32,
   "metadata": {},
   "outputs": [],
   "source": []
  },
  {
   "cell_type": "code",
   "execution_count": 42,
   "metadata": {},
   "outputs": [
    {
     "data": {
      "text/html": [
       "<table border=\"1\" class=\"dataframe\">\n",
       "  <thead>\n",
       "    <tr style=\"text-align: right;\">\n",
       "      <th>text</th>\n",
       "      <th>target</th>\n",
       "    </tr>\n",
       "  </thead>\n",
       "  <tbody>\n",
       "    <tr>\n",
       "      <td>▁xxbos ▁portuguese ▁kit ▁maternidade ▁bolsa ▁mala ▁baby ▁bebe ▁vinha ▁menina ▁kb 1</td>\n",
       "      <td>3D_GLASSES</td>\n",
       "    </tr>\n",
       "    <tr>\n",
       "      <td>▁xxbos ▁portuguese ▁trocador ▁de ▁fralda ▁fisher ▁price ▁feminina ▁rosa ▁portatil</td>\n",
       "      <td>3D_GLASSES</td>\n",
       "    </tr>\n",
       "    <tr>\n",
       "      <td>▁xxbos ▁portuguese ▁motor ▁ventoinha ▁fiat ▁idea ▁palia ▁1 ▁a ▁1 ▁k</td>\n",
       "      <td>3D_GLASSES</td>\n",
       "    </tr>\n",
       "    <tr>\n",
       "      <td>▁xxbos ▁portuguese ▁amortecedor ▁mola ▁batente ▁d ▁dir ▁new ▁civic ▁1 ▁k</td>\n",
       "      <td>3D_GLASSES</td>\n",
       "    </tr>\n",
       "    <tr>\n",
       "      <td>▁xxbos ▁portuguese ▁cadeirinha ▁de ▁carra ▁bebe ▁princesa ▁princes ▁1 ▁a ▁1 ▁kg</td>\n",
       "      <td>3D_GLASSES</td>\n",
       "    </tr>\n",
       "    <tr>\n",
       "      <td>▁xxbos ▁portuguese ▁caba ▁freia ▁maa ▁tra ▁direita ▁vw ▁up ▁cod ▁1 s 1 e ▁1 ▁j</td>\n",
       "      <td>3D_GLASSES</td>\n",
       "    </tr>\n",
       "    <tr>\n",
       "      <td>▁xxbos ▁portuguese ▁mini ▁pc ▁dell ▁optiplex ▁fx 1 ▁atom ▁1 gb ▁ram ▁ssd ▁1 gb ▁wifi</td>\n",
       "      <td>3D_GLASSES</td>\n",
       "    </tr>\n",
       "    <tr>\n",
       "      <td>▁xxbos ▁portuguese ▁kit ▁bi ▁xenon ▁lampada ▁h 1 ▁1 k</td>\n",
       "      <td>3D_GLASSES</td>\n",
       "    </tr>\n",
       "    <tr>\n",
       "      <td>▁xxbos ▁portuguese ▁protetor ▁pe ▁botinha ▁kickboxing ▁karate ▁taekwonda ▁competicaa</td>\n",
       "      <td>3D_GLASSES</td>\n",
       "    </tr>\n",
       "    <tr>\n",
       "      <td>▁xxbos ▁spanish ▁disca ▁rigida ▁externa ▁western ▁digital ▁element ▁1 tb ▁usb 1 ▁1</td>\n",
       "      <td>3D_GLASSES</td>\n",
       "    </tr>\n",
       "  </tbody>\n",
       "</table>"
      ],
      "text/plain": [
       "<IPython.core.display.HTML object>"
      ]
     },
     "metadata": {},
     "output_type": "display_data"
    }
   ],
   "source": [
    "learn.data.show_batch(ds_type=DatasetType.Test, rows=10)"
   ]
  },
  {
   "cell_type": "code",
   "execution_count": 44,
   "metadata": {},
   "outputs": [
    {
     "name": "stdout",
     "output_type": "stream",
     "text": [
      "▁xxbos ▁spanish ▁hidrolavadora ▁lavor ▁one ▁1 ▁bar ▁1 w ▁bomba ▁aluminia ▁italia\n",
      "▁xxbos ▁portuguese ▁roupa ▁termica ▁forra ▁peluciada ▁segunda ▁pele ▁viagem ▁e ▁pijama\n",
      "▁xxbos ▁portuguese ▁kit ▁maternidade ▁bolsa ▁mala ▁baby ▁bebe ▁vinha ▁menina ▁kb 1\n"
     ]
    },
    {
     "data": {
      "text/plain": [
       "246955"
      ]
     },
     "execution_count": 44,
     "metadata": {},
     "output_type": "execute_result"
    }
   ],
   "source": [
    "print(learn.data.train_ds.x[0])\n",
    "print(learn.data.valid_ds.x[0])\n",
    "print(learn.data.test_ds.x[0])"
   ]
  },
  {
   "cell_type": "code",
   "execution_count": 45,
   "metadata": {},
   "outputs": [],
   "source": [
    "probs = learn.get_preds(ds_type=DatasetType.Test)\n",
    "pred_indices = torch.argmax(probs[0], dim=1)\n",
    "preds_clas = [data_clas.classes[pred] for pred in pred_indices]"
   ]
  },
  {
   "cell_type": "code",
   "execution_count": 46,
   "metadata": {},
   "outputs": [
    {
     "name": "stdout",
     "output_type": "stream",
     "text": [
      "(Text ▁xxbos ▁spanish ▁picadora ▁de ▁carne ▁fineschi ▁legitima ▁1, EmptyLabel ) MEAT_GRINDERS\n",
      "(Text ▁xxbos ▁portuguese ▁saida ▁maternidade ▁1 ▁manta ▁1 vestida ▁1 cal ca ▁brinde ▁ref ▁1, EmptyLabel ) BABY_CLOTHING_SETS\n",
      "(Text ▁xxbos ▁portuguese ▁joga ▁vela ▁ignicaa ▁ngk ▁mercede ▁benz ▁1 ▁clc ▁1 ▁kompressor, EmptyLabel ) SPARK_PLUGS\n",
      "(Text ▁xxbos ▁portuguese ▁modula ▁de ▁injecaa ▁fox ▁flex ▁1 ▁aa, EmptyLabel ) ENGINE_CONTROL_MODULES\n",
      "(Text ▁xxbos ▁spanish ▁set ▁barreta ▁automotor ▁bremen ▁x 1 ▁unid ▁1 ▁1 cm, EmptyLabel ) CHISELS\n",
      "(Text ▁xxbos ▁spanish ▁miel ▁organica ▁x 1 gr ▁sin ▁tacc, EmptyLabel ) HONEY\n",
      "(Text ▁xxbos ▁portuguese ▁sax ▁tenor ▁coon ▁1 m, EmptyLabel ) SAXOPHONES\n",
      "(Text ▁xxbos ▁portuguese ▁sapata ▁seguranca ▁vaqueta ▁bidensidade ▁com ▁biqueira ▁de ▁pvc, EmptyLabel ) SAFETY_FOOTWEAR\n",
      "(Text ▁xxbos ▁portuguese ▁1 ▁adaptador ▁para ▁cartaa ▁de ▁memoria ▁micra ▁sd ▁frete ▁grati, EmptyLabel ) MEMORY_CARD_READERS\n",
      "(Text ▁xxbos ▁spanish ▁bandeja ▁giradisca ▁omni tronic ▁bd 1, EmptyLabel ) TURNTABLES\n"
     ]
    }
   ],
   "source": [
    "for x in range(10, 20):\n",
    "    print(learn.data.test_ds[x], preds_clas[x])"
   ]
  },
  {
   "cell_type": "code",
   "execution_count": 47,
   "metadata": {},
   "outputs": [],
   "source": [
    "test = pd.read_csv(PATH / 'test.csv')\n",
    "test.pop('language');\n",
    "test.pop('title');\n",
    "test['category'] = preds_clas"
   ]
  },
  {
   "cell_type": "code",
   "execution_count": 48,
   "metadata": {},
   "outputs": [],
   "source": [
    "test.to_csv('submission.csv', index=False)"
   ]
  }
 ],
 "metadata": {
  "kernelspec": {
   "display_name": "Python 3",
   "language": "python",
   "name": "python3"
  },
  "language_info": {
   "codemirror_mode": {
    "name": "ipython",
    "version": 3
   },
   "file_extension": ".py",
   "mimetype": "text/x-python",
   "name": "python",
   "nbconvert_exporter": "python",
   "pygments_lexer": "ipython3",
   "version": "3.7.3"
  }
 },
 "nbformat": 4,
 "nbformat_minor": 2
}
