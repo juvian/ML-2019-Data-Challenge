{
 "cells": [
  {
   "cell_type": "code",
   "execution_count": null,
   "metadata": {},
   "outputs": [],
   "source": [
    "import pandas as pd\n",
    "df = pd.read_csv('train.csv')\n",
    "\n",
    "df.sort_values('language').groupby('category').head(10).reset_index(drop=True).to_csv('categories.csv', index=False)"
   ]
  },
  {
   "cell_type": "code",
   "execution_count": 8,
   "metadata": {},
   "outputs": [
    {
     "name": "stdout",
     "output_type": "stream",
     "text": [
      "1588 1574 1576\n"
     ]
    }
   ],
   "source": [
    "import pandas as pd\n",
    "df = pd.read_csv('train.csv')\n",
    "\n",
    "print(len(df.groupby('category')), len(df[df.language == 'spanish'].groupby('category')) , len(df[df.language == 'portuguese'].groupby('category')))"
   ]
  },
  {
   "cell_type": "code",
   "execution_count": 21,
   "metadata": {},
   "outputs": [],
   "source": [
    "import pandas as pd\n",
    "from math import floor\n",
    "\n",
    "df = pd.read_csv('train.csv')\n",
    "\n",
    "tot = len(df)\n",
    "\n",
    "dfs = []\n",
    "\n",
    "for name, group in df.groupby('category'):\n",
    "    spanish = group[group.language == 'spanish'].sort_values('label_quality')\n",
    "    por = group[group.language == 'portuguese'].sort_values('label_quality')\n",
    "    \n",
    "    toTake = 1000 + floor(50000 * (len(group) / tot))\n",
    "    \n",
    "    mn, mx = spanish, por\n",
    "    if len(spanish) > len(por):\n",
    "        mn, mx = por, spanish\n",
    "    \n",
    "    mn_qty = min(len(mn), toTake // 2)\n",
    "    mx_qty = toTake - mn_qty\n",
    "    \n",
    "    d = pd.concat([mn.head(mn_qty), mx.head(mx_qty)])\n",
    "    \n",
    "    dfs.append(d)\n",
    "    \n",
    "pd.concat(dfs).to_csv('train_2m.csv')    "
   ]
  },
  {
   "cell_type": "code",
   "execution_count": null,
   "metadata": {},
   "outputs": [],
   "source": []
  }
 ],
 "metadata": {
  "kernelspec": {
   "display_name": "Python 3",
   "language": "python",
   "name": "python3"
  },
  "language_info": {
   "codemirror_mode": {
    "name": "ipython",
    "version": 3
   },
   "file_extension": ".py",
   "mimetype": "text/x-python",
   "name": "python",
   "nbconvert_exporter": "python",
   "pygments_lexer": "ipython3",
   "version": "3.7.3"
  }
 },
 "nbformat": 4,
 "nbformat_minor": 2
}
